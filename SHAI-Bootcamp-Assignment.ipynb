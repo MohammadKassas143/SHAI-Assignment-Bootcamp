{
 "cells": [
  {
   "cell_type": "markdown",
   "id": "665e7f7d-379b-42d2-86b9-09468fb89a38",
   "metadata": {},
   "source": [
    "# Shai bootcamp Assignment"
   ]
  },
  {
   "cell_type": "markdown",
   "id": "25e7adbc-c790-429e-bbc9-da67f15c2a88",
   "metadata": {},
   "source": [
    "**1. Basic Data Exploration :** Identify the number of rows and columns in the dataset, determine the data types of each column, and check for missing values in each column."
   ]
  },
  {
   "cell_type": "code",
   "execution_count": 1,
   "id": "d8f09af6-9400-42f1-ae1b-069f56542c14",
   "metadata": {},
   "outputs": [],
   "source": [
    "import pandas as pd\n",
    "import numpy as np\n",
    "import matplotlib.pyplot as plt\n",
    "\n",
    "# Load your dataset\n",
    "df = pd.read_csv('Salaries.csv')"
   ]
  },
  {
   "cell_type": "code",
   "execution_count": 2,
   "id": "65b95bbf-c941-4b5c-975c-44d98719981f",
   "metadata": {},
   "outputs": [
    {
     "name": "stdout",
     "output_type": "stream",
     "text": [
      "There is 148654 rows, and 13 columns in the dataset.\n"
     ]
    }
   ],
   "source": [
    "num_of_rows=df.shape[0]\n",
    "num_of_cols=df.shape[1]\n",
    "print(f'There is {num_of_rows} rows, and {num_of_cols} columns in the dataset.')"
   ]
  },
  {
   "cell_type": "code",
   "execution_count": 3,
   "id": "2bf1e514-1d6b-402f-8586-df0c3a724d90",
   "metadata": {},
   "outputs": [
    {
     "data": {
      "text/plain": [
       "Id                    int64\n",
       "EmployeeName         object\n",
       "JobTitle             object\n",
       "BasePay             float64\n",
       "OvertimePay         float64\n",
       "OtherPay            float64\n",
       "Benefits            float64\n",
       "TotalPay            float64\n",
       "TotalPayBenefits    float64\n",
       "Year                  int64\n",
       "Notes               float64\n",
       "Agency               object\n",
       "Status              float64\n",
       "dtype: object"
      ]
     },
     "execution_count": 3,
     "metadata": {},
     "output_type": "execute_result"
    }
   ],
   "source": [
    "data_types = df.dtypes\n",
    "data_types"
   ]
  },
  {
   "cell_type": "code",
   "execution_count": 4,
   "id": "38beb3c6-891e-456a-acb9-61905556e32d",
   "metadata": {},
   "outputs": [
    {
     "data": {
      "text/plain": [
       "Id                       0\n",
       "EmployeeName             0\n",
       "JobTitle                 0\n",
       "BasePay                609\n",
       "OvertimePay              4\n",
       "OtherPay                 4\n",
       "Benefits             36163\n",
       "TotalPay                 0\n",
       "TotalPayBenefits         0\n",
       "Year                     0\n",
       "Notes               148654\n",
       "Agency                   0\n",
       "Status              148654\n",
       "dtype: int64"
      ]
     },
     "execution_count": 4,
     "metadata": {},
     "output_type": "execute_result"
    }
   ],
   "source": [
    "df.isnull().sum()"
   ]
  },
  {
   "cell_type": "markdown",
   "id": "5f8c24de-20d6-4090-b906-af38c8c74e14",
   "metadata": {},
   "source": [
    "We will notice that \"Notes\" and \"Status\" columns do not contain any values.(both of them are filled by NaN)"
   ]
  },
  {
   "cell_type": "markdown",
   "id": "0bc30217-1c8f-47f9-8b6c-4a0e12463048",
   "metadata": {},
   "source": [
    "**2. Descriptive Statistics:** Calculate basic statistics mean, median, mode, minimum, and maximum salary, determine the range of salaries, and find the standard deviation."
   ]
  },
  {
   "cell_type": "code",
   "execution_count": 5,
   "id": "90e2a9f2-1472-45d9-8bd6-531aa101a895",
   "metadata": {},
   "outputs": [
    {
     "name": "stdout",
     "output_type": "stream",
     "text": [
      "mean salary:  74768.32197169267\n",
      "median salary:  71426.60999999999\n",
      "mode:  0    0.0\n",
      "Name: TotalPay, dtype: float64\n",
      "min salary:  -618.13\n",
      "max salary:  567595.43\n",
      "range salary:  568213.56\n"
     ]
    }
   ],
   "source": [
    "print('mean salary: ',df['TotalPay'].mean())\n",
    "print('median salary: ',df['TotalPay'].median())\n",
    "print('mode: ',df['TotalPay'].mode())\n",
    "print('min salary: ',df['TotalPay'].min())\n",
    "print('max salary: ',df['TotalPay'].max())\n",
    "print('range salary: ',df['TotalPay'].max() - df['TotalPay'].min())"
   ]
  },
  {
   "cell_type": "code",
   "execution_count": 6,
   "id": "e2cbe347-136e-462e-8d9c-72f24e00cca1",
   "metadata": {},
   "outputs": [
    {
     "name": "stdout",
     "output_type": "stream",
     "text": [
      "standard deviation of salaries:  50517.00527394987\n"
     ]
    }
   ],
   "source": [
    "std=df['TotalPay'].std()\n",
    "print('standard deviation of salaries: ',std)"
   ]
  },
  {
   "cell_type": "markdown",
   "id": "3ae245f0-f040-4617-ad52-7992299fb39a",
   "metadata": {},
   "source": [
    "3. **Data Cleaning**: Handle missing data by suitable method with explain why you use it."
   ]
  },
  {
   "cell_type": "markdown",
   "id": "5f3b514c-bca4-4eae-8c44-41ca44ace09f",
   "metadata": {},
   "source": [
    "The 'Notes' and 'Status' Columns are empty, so I will drop them."
   ]
  },
  {
   "cell_type": "code",
   "execution_count": 7,
   "id": "7cffa1af-06c9-443f-9f3e-a2db940ac412",
   "metadata": {},
   "outputs": [],
   "source": [
    "df.drop(columns=['Notes', 'Status'],inplace=True)"
   ]
  },
  {
   "cell_type": "code",
   "execution_count": 8,
   "id": "51572f12-b65d-4acb-a659-0efc9a53b8a7",
   "metadata": {},
   "outputs": [
    {
     "data": {
      "text/html": [
       "<div>\n",
       "<style scoped>\n",
       "    .dataframe tbody tr th:only-of-type {\n",
       "        vertical-align: middle;\n",
       "    }\n",
       "\n",
       "    .dataframe tbody tr th {\n",
       "        vertical-align: top;\n",
       "    }\n",
       "\n",
       "    .dataframe thead th {\n",
       "        text-align: right;\n",
       "    }\n",
       "</style>\n",
       "<table border=\"1\" class=\"dataframe\">\n",
       "  <thead>\n",
       "    <tr style=\"text-align: right;\">\n",
       "      <th></th>\n",
       "      <th>Id</th>\n",
       "      <th>EmployeeName</th>\n",
       "      <th>JobTitle</th>\n",
       "      <th>BasePay</th>\n",
       "      <th>OvertimePay</th>\n",
       "      <th>OtherPay</th>\n",
       "      <th>Benefits</th>\n",
       "      <th>TotalPay</th>\n",
       "      <th>TotalPayBenefits</th>\n",
       "      <th>Year</th>\n",
       "      <th>Agency</th>\n",
       "    </tr>\n",
       "  </thead>\n",
       "  <tbody>\n",
       "    <tr>\n",
       "      <th>148646</th>\n",
       "      <td>148647</td>\n",
       "      <td>Not provided</td>\n",
       "      <td>Not provided</td>\n",
       "      <td>NaN</td>\n",
       "      <td>NaN</td>\n",
       "      <td>NaN</td>\n",
       "      <td>NaN</td>\n",
       "      <td>0.0</td>\n",
       "      <td>0.0</td>\n",
       "      <td>2014</td>\n",
       "      <td>San Francisco</td>\n",
       "    </tr>\n",
       "    <tr>\n",
       "      <th>148650</th>\n",
       "      <td>148651</td>\n",
       "      <td>Not provided</td>\n",
       "      <td>Not provided</td>\n",
       "      <td>NaN</td>\n",
       "      <td>NaN</td>\n",
       "      <td>NaN</td>\n",
       "      <td>NaN</td>\n",
       "      <td>0.0</td>\n",
       "      <td>0.0</td>\n",
       "      <td>2014</td>\n",
       "      <td>San Francisco</td>\n",
       "    </tr>\n",
       "    <tr>\n",
       "      <th>148651</th>\n",
       "      <td>148652</td>\n",
       "      <td>Not provided</td>\n",
       "      <td>Not provided</td>\n",
       "      <td>NaN</td>\n",
       "      <td>NaN</td>\n",
       "      <td>NaN</td>\n",
       "      <td>NaN</td>\n",
       "      <td>0.0</td>\n",
       "      <td>0.0</td>\n",
       "      <td>2014</td>\n",
       "      <td>San Francisco</td>\n",
       "    </tr>\n",
       "    <tr>\n",
       "      <th>148652</th>\n",
       "      <td>148653</td>\n",
       "      <td>Not provided</td>\n",
       "      <td>Not provided</td>\n",
       "      <td>NaN</td>\n",
       "      <td>NaN</td>\n",
       "      <td>NaN</td>\n",
       "      <td>NaN</td>\n",
       "      <td>0.0</td>\n",
       "      <td>0.0</td>\n",
       "      <td>2014</td>\n",
       "      <td>San Francisco</td>\n",
       "    </tr>\n",
       "  </tbody>\n",
       "</table>\n",
       "</div>"
      ],
      "text/plain": [
       "            Id  EmployeeName      JobTitle  BasePay  OvertimePay  OtherPay  \\\n",
       "148646  148647  Not provided  Not provided      NaN          NaN       NaN   \n",
       "148650  148651  Not provided  Not provided      NaN          NaN       NaN   \n",
       "148651  148652  Not provided  Not provided      NaN          NaN       NaN   \n",
       "148652  148653  Not provided  Not provided      NaN          NaN       NaN   \n",
       "\n",
       "        Benefits  TotalPay  TotalPayBenefits  Year         Agency  \n",
       "148646       NaN       0.0               0.0  2014  San Francisco  \n",
       "148650       NaN       0.0               0.0  2014  San Francisco  \n",
       "148651       NaN       0.0               0.0  2014  San Francisco  \n",
       "148652       NaN       0.0               0.0  2014  San Francisco  "
      ]
     },
     "execution_count": 8,
     "metadata": {},
     "output_type": "execute_result"
    }
   ],
   "source": [
    "df[(df['OvertimePay'].isna()) | (df['OtherPay'].isna())]"
   ]
  },
  {
   "cell_type": "markdown",
   "id": "3c84038e-f72a-4a7a-b97e-7ed494666a6c",
   "metadata": {},
   "source": [
    "Please be aware that these 4 records are empty, and I think the best approach to handle the missing values of 'OvertimePay' and 'OtherPay' columns is to delete these rows."
   ]
  },
  {
   "cell_type": "code",
   "execution_count": 9,
   "id": "44f53fe8-a0a6-4d80-b2a1-fd20bdd32cd2",
   "metadata": {},
   "outputs": [],
   "source": [
    "indexNaN = df[ (df['OvertimePay'].isna()) | (df['OtherPay'].isna())].index\n",
    "df.drop(indexNaN , inplace=True)"
   ]
  },
  {
   "cell_type": "markdown",
   "id": "0a64f084-2a14-445c-a1e9-9d99037385c5",
   "metadata": {},
   "source": [
    "I will assume that missing values are not only NaN values, but also any kind of incorrect data entry."
   ]
  },
  {
   "cell_type": "code",
   "execution_count": 10,
   "id": "12306796-67f3-4bbf-8e12-d86f9f42cf1d",
   "metadata": {},
   "outputs": [
    {
     "data": {
      "text/html": [
       "<div>\n",
       "<style scoped>\n",
       "    .dataframe tbody tr th:only-of-type {\n",
       "        vertical-align: middle;\n",
       "    }\n",
       "\n",
       "    .dataframe tbody tr th {\n",
       "        vertical-align: top;\n",
       "    }\n",
       "\n",
       "    .dataframe thead th {\n",
       "        text-align: right;\n",
       "    }\n",
       "</style>\n",
       "<table border=\"1\" class=\"dataframe\">\n",
       "  <thead>\n",
       "    <tr style=\"text-align: right;\">\n",
       "      <th></th>\n",
       "      <th>BasePay</th>\n",
       "      <th>OvertimePay</th>\n",
       "    </tr>\n",
       "  </thead>\n",
       "  <tbody>\n",
       "    <tr>\n",
       "      <th>72832</th>\n",
       "      <td>-166.01</td>\n",
       "      <td>249.02</td>\n",
       "    </tr>\n",
       "    <tr>\n",
       "      <th>72865</th>\n",
       "      <td>-121.63</td>\n",
       "      <td>182.70</td>\n",
       "    </tr>\n",
       "    <tr>\n",
       "      <th>72872</th>\n",
       "      <td>-109.22</td>\n",
       "      <td>163.83</td>\n",
       "    </tr>\n",
       "    <tr>\n",
       "      <th>72874</th>\n",
       "      <td>-106.60</td>\n",
       "      <td>159.90</td>\n",
       "    </tr>\n",
       "    <tr>\n",
       "      <th>72878</th>\n",
       "      <td>-101.88</td>\n",
       "      <td>153.08</td>\n",
       "    </tr>\n",
       "    <tr>\n",
       "      <th>72884</th>\n",
       "      <td>-93.14</td>\n",
       "      <td>139.97</td>\n",
       "    </tr>\n",
       "    <tr>\n",
       "      <th>72888</th>\n",
       "      <td>-87.38</td>\n",
       "      <td>131.06</td>\n",
       "    </tr>\n",
       "    <tr>\n",
       "      <th>72894</th>\n",
       "      <td>-75.67</td>\n",
       "      <td>113.76</td>\n",
       "    </tr>\n",
       "    <tr>\n",
       "      <th>72908</th>\n",
       "      <td>-59.59</td>\n",
       "      <td>89.65</td>\n",
       "    </tr>\n",
       "    <tr>\n",
       "      <th>72920</th>\n",
       "      <td>-30.58</td>\n",
       "      <td>45.87</td>\n",
       "    </tr>\n",
       "    <tr>\n",
       "      <th>72922</th>\n",
       "      <td>-9.50</td>\n",
       "      <td>14.25</td>\n",
       "    </tr>\n",
       "    <tr>\n",
       "      <th>90714</th>\n",
       "      <td>75033.03</td>\n",
       "      <td>-0.01</td>\n",
       "    </tr>\n",
       "  </tbody>\n",
       "</table>\n",
       "</div>"
      ],
      "text/plain": [
       "        BasePay  OvertimePay\n",
       "72832   -166.01       249.02\n",
       "72865   -121.63       182.70\n",
       "72872   -109.22       163.83\n",
       "72874   -106.60       159.90\n",
       "72878   -101.88       153.08\n",
       "72884    -93.14       139.97\n",
       "72888    -87.38       131.06\n",
       "72894    -75.67       113.76\n",
       "72908    -59.59        89.65\n",
       "72920    -30.58        45.87\n",
       "72922     -9.50        14.25\n",
       "90714  75033.03        -0.01"
      ]
     },
     "execution_count": 10,
     "metadata": {},
     "output_type": "execute_result"
    }
   ],
   "source": [
    "df[(df['OvertimePay']<0.0)| (df['BasePay']<0.0)][['BasePay','OvertimePay']]"
   ]
  },
  {
   "cell_type": "markdown",
   "id": "00592658-24e7-44ef-963f-dc3296e0dbad",
   "metadata": {},
   "source": [
    "This is clearly a data entry error, BasePay should never have negative value as same as the OvertimePay.\n",
    "\n",
    "To solve this issue I will assign the cells that have negative values to zero."
   ]
  },
  {
   "cell_type": "code",
   "execution_count": 11,
   "id": "029ceb8f-b38d-4155-bb02-3c9fecae8329",
   "metadata": {},
   "outputs": [],
   "source": [
    "df.loc[df['OvertimePay']<0.0,'OvertimePay']=0.0\n",
    "df.loc[df['BasePay']<0.0,'BasePay']=0.0"
   ]
  },
  {
   "cell_type": "code",
   "execution_count": 12,
   "id": "3c33a2fc-a3f9-4ad8-bf82-d3dee3ed24d2",
   "metadata": {},
   "outputs": [
    {
     "data": {
      "text/html": [
       "<div>\n",
       "<style scoped>\n",
       "    .dataframe tbody tr th:only-of-type {\n",
       "        vertical-align: middle;\n",
       "    }\n",
       "\n",
       "    .dataframe tbody tr th {\n",
       "        vertical-align: top;\n",
       "    }\n",
       "\n",
       "    .dataframe thead th {\n",
       "        text-align: right;\n",
       "    }\n",
       "</style>\n",
       "<table border=\"1\" class=\"dataframe\">\n",
       "  <thead>\n",
       "    <tr style=\"text-align: right;\">\n",
       "      <th></th>\n",
       "      <th>Benefits</th>\n",
       "      <th>TotalPay</th>\n",
       "      <th>TotalPayBenefits</th>\n",
       "    </tr>\n",
       "  </thead>\n",
       "  <tbody>\n",
       "    <tr>\n",
       "      <th>110528</th>\n",
       "      <td>-2.73</td>\n",
       "      <td>0.00</td>\n",
       "      <td>-2.73</td>\n",
       "    </tr>\n",
       "    <tr>\n",
       "      <th>110529</th>\n",
       "      <td>-8.20</td>\n",
       "      <td>0.00</td>\n",
       "      <td>-8.20</td>\n",
       "    </tr>\n",
       "    <tr>\n",
       "      <th>110530</th>\n",
       "      <td>-33.89</td>\n",
       "      <td>0.00</td>\n",
       "      <td>-33.89</td>\n",
       "    </tr>\n",
       "    <tr>\n",
       "      <th>144099</th>\n",
       "      <td>-13.80</td>\n",
       "      <td>9991.77</td>\n",
       "      <td>9977.97</td>\n",
       "    </tr>\n",
       "  </tbody>\n",
       "</table>\n",
       "</div>"
      ],
      "text/plain": [
       "        Benefits  TotalPay  TotalPayBenefits\n",
       "110528     -2.73      0.00             -2.73\n",
       "110529     -8.20      0.00             -8.20\n",
       "110530    -33.89      0.00            -33.89\n",
       "144099    -13.80   9991.77           9977.97"
      ]
     },
     "execution_count": 12,
     "metadata": {},
     "output_type": "execute_result"
    }
   ],
   "source": [
    "df[df['Benefits']<0.0][['Benefits','TotalPay','TotalPayBenefits']]"
   ]
  },
  {
   "cell_type": "markdown",
   "id": "2d41589f-8d3f-42a0-acb6-ad1d6df0c833",
   "metadata": {},
   "source": [
    "This is also a very clear mistake, Benefits should have only positive values down to zero, it also clear that TotalPayBenefits have the same negative values of Benefits, so they need to bed fixed too.\n",
    "\n",
    "To solve this issue I will also assign the cells that have negative values to zero."
   ]
  },
  {
   "cell_type": "code",
   "execution_count": 13,
   "id": "4e1be021-7138-4c52-9ccb-3582b62f6e75",
   "metadata": {},
   "outputs": [],
   "source": [
    "df.loc[df['Benefits']<0.0,'Benefits']=0.0\n",
    "df.loc[df['TotalPayBenefits']<0.0,'TotalPayBenefits']=0.0"
   ]
  },
  {
   "cell_type": "markdown",
   "id": "c4f033cd-12e7-420d-9140-cc0beac6ceef",
   "metadata": {},
   "source": [
    "Now filling the Remaining missing values with NaN values.\n",
    "I will assign NaN values of Benefits to zero, and the values of BasePay to the average BasePay."
   ]
  },
  {
   "cell_type": "code",
   "execution_count": 14,
   "id": "4d2be056-2167-48c6-a0f4-45ec277d197c",
   "metadata": {},
   "outputs": [],
   "source": [
    "fill_values = pd.DataFrame({\n",
    "                \"Benefits\" : 0.0,\n",
    "                \"BasePay\" : df[\"BasePay\"].mean()}, index=df.index)\n",
    "df= df.combine_first(fill_values)"
   ]
  },
  {
   "cell_type": "code",
   "execution_count": 15,
   "id": "3509e2b1-4502-4a47-abdb-1edda27df3fe",
   "metadata": {},
   "outputs": [
    {
     "name": "stdout",
     "output_type": "stream",
     "text": [
      "<class 'pandas.core.frame.DataFrame'>\n",
      "Index: 148650 entries, 0 to 148653\n",
      "Data columns (total 11 columns):\n",
      " #   Column            Non-Null Count   Dtype  \n",
      "---  ------            --------------   -----  \n",
      " 0   Agency            148650 non-null  object \n",
      " 1   BasePay           148650 non-null  float64\n",
      " 2   Benefits          148650 non-null  float64\n",
      " 3   EmployeeName      148650 non-null  object \n",
      " 4   Id                148650 non-null  int64  \n",
      " 5   JobTitle          148650 non-null  object \n",
      " 6   OtherPay          148650 non-null  float64\n",
      " 7   OvertimePay       148650 non-null  float64\n",
      " 8   TotalPay          148650 non-null  float64\n",
      " 9   TotalPayBenefits  148650 non-null  float64\n",
      " 10  Year              148650 non-null  int64  \n",
      "dtypes: float64(6), int64(2), object(3)\n",
      "memory usage: 13.6+ MB\n"
     ]
    }
   ],
   "source": [
    "df.info()"
   ]
  },
  {
   "cell_type": "markdown",
   "id": "50a025eb-329f-49ef-a443-65b4506f1c76",
   "metadata": {},
   "source": [
    "Note that we don't have any missing values any more, and as a result of removing the empty records the number of rows decreased by 4, and the number of columns decreased by 2 due to dropping the empty columns."
   ]
  },
  {
   "cell_type": "markdown",
   "id": "ed69fc19-b32f-4d45-8716-0bd1d546ada3",
   "metadata": {},
   "source": [
    "4. **Basic Data Visualization**: Create histograms or bar charts to visualize the distribution of salaries, and use pie charts to represent the proportion of employees in different departments."
   ]
  },
  {
   "cell_type": "code",
   "execution_count": 16,
   "id": "8318e477-16fc-49c3-930a-7e7d975f21e1",
   "metadata": {},
   "outputs": [
    {
     "data": {
      "image/png": "[encoded data removed]",
      "text/plain": [
       "<Figure size 640x480 with 1 Axes>"
      ]
     },
     "metadata": {},
     "output_type": "display_data"
    }
   ],
   "source": [
    "salaries = df['TotalPay'].tolist()\n",
    "\n",
    "plt.hist(salaries,50)\n",
    "plt.title('The distribution of salaries')\n",
    "plt.xlabel('Salaries', color='black', fontweight='bold')\n",
    "plt.ylabel('Frequency', color='black', fontweight='bold')\n",
    "plt.show() "
   ]
  },
  {
   "cell_type": "code",
   "execution_count": 17,
   "id": "a32f92a0-b15b-4df4-80d5-b7c2f4034d5a",
   "metadata": {},
   "outputs": [
    {
     "name": "stdout",
     "output_type": "stream",
     "text": [
      "The departments are:  ['Unknown' 'POLICE DEPARTMENT' 'FIRE DEPARTMENT' 'CIVIL & CRIMINAL'\n",
      " 'CIVIL/CRIMINAL' 'MFCC' 'SEASONAL' 'Fire Dept' 'Cvl&Crmnl'\n",
      " 'Civil & Criminal' 'SFERS' 'Police Department' 'Civil/Criminal'\n",
      " 'Seasonal' 'Fire Department']\n"
     ]
    }
   ],
   "source": [
    "df['Department'] = df['JobTitle'].apply(lambda x: x.split('(')[-1].split(')')[0] if '(' in x and ')' in x else 'Unknown')\n",
    "\n",
    "\n",
    "unique_departments = df['Department'].unique()\n",
    "\n",
    "print('The departments are: ',unique_departments)"
   ]
  },
  {
   "cell_type": "markdown",
   "id": "b1e92c6b-069d-4f86-a297-bd87a3ddda7f",
   "metadata": {},
   "source": [
    "**NOTE:** The data contains some duplicate departments with different spellings or capitalizations. For example, (‘Cvl&Crmnl’ , ‘Civil/Criminal’, ‘CIVIL & CRIMINAL’ , ‘CIVIL/CRIMINAL’ , ‘Civil & Criminal’) all refer to the same department. To avoid confusion , we need to group these departments together under a single name."
   ]
  },
  {
   "cell_type": "code",
   "execution_count": 18,
   "id": "4f067307-b84c-42d9-8f47-01e5dea46ec9",
   "metadata": {},
   "outputs": [],
   "source": [
    "replacements = {\n",
    "    'Civil/Criminal': 'CIVIL & CRIMINAL',\n",
    "    'Civil & Criminal': 'CIVIL & CRIMINAL',\n",
    "    'Cvl&Crmnl': 'CIVIL & CRIMINAL',\n",
    "    'CIVIL/CRIMINAL': 'CIVIL & CRIMINAL',\n",
    "    'Police Department': 'POLICE DEPARTMENT',\n",
    "    'Fire Department': 'FIRE DEPARTMENT',\n",
    "    'Fire Dept': 'FIRE DEPARTMENT',\n",
    "    'Seasonal': 'SEASONAL'\n",
    "}\n",
    "\n",
    "df['Department'] = df['Department'].replace(replacements)"
   ]
  },
  {
   "cell_type": "code",
   "execution_count": 19,
   "id": "73aa8b04-450b-451e-b925-26c0dd42b24e",
   "metadata": {},
   "outputs": [
    {
     "data": {
      "text/plain": [
       "{'Unknown': 0.9825496131853346,\n",
       " 'CIVIL & CRIMINAL': 0.010319542549613186,\n",
       " 'POLICE DEPARTMENT': 0.004789774638412378,\n",
       " 'SEASONAL': 0.0007803565422132527,\n",
       " 'MFCC': 0.0006054490413723512,\n",
       " 'FIRE DEPARTMENT': 0.0005247225025227044,\n",
       " 'SFERS': 0.00043054154053144973}"
      ]
     },
     "execution_count": 19,
     "metadata": {},
     "output_type": "execute_result"
    }
   ],
   "source": [
    "proportion = df['Department'].value_counts(normalize=True).to_dict()\n",
    "proportion"
   ]
  },
  {
   "cell_type": "code",
   "execution_count": 20,
   "id": "9f0e61b8-aa38-4450-97af-ac003ad89678",
   "metadata": {},
   "outputs": [
    {
     "data": {
      "image/png": "[encoded data removed]",
      "text/plain": [
       "<Figure size 640x480 with 1 Axes>"
      ]
     },
     "metadata": {},
     "output_type": "display_data"
    }
   ],
   "source": [
    "labels = list(proportion.keys())\n",
    "values = list(proportion.values())\n",
    "\n",
    "\n",
    "plt.pie(values, labels=labels, autopct='%.2f%%')\n",
    "plt.title('Proportion of Employees in Each Department')\n",
    "plt.show()"
   ]
  },
  {
   "cell_type": "markdown",
   "id": "7adf2811-1fcb-48e4-8f54-ff4b4a1397ee",
   "metadata": {},
   "source": [
    "If we want to see the Proportions of the Departments excluding the \"Unknown\" Department:"
   ]
  },
  {
   "cell_type": "code",
   "execution_count": 21,
   "id": "d43e8b0d-358b-4cfb-869b-cc3126465935",
   "metadata": {},
   "outputs": [
    {
     "data": {
      "image/png": "[encoded data removed]",
      "text/plain": [
       "<Figure size 640x480 with 1 Axes>"
      ]
     },
     "metadata": {},
     "output_type": "display_data"
    }
   ],
   "source": [
    "plt.pie(values[1:], labels=labels[1:], autopct='%.2f%%')\n",
    "plt.title('Proportion of Employees in Each Department without the Unknown Department ')\n",
    "plt.show()"
   ]
  },
  {
   "cell_type": "markdown",
   "id": "e4240bf1-d1e0-491a-b2f0-c38014b3be99",
   "metadata": {},
   "source": [
    "Most employees belong to the Unknown department, and the CIVIL & CRIMINAL department has the largest number of employees among the known departments.\r\n",
    "\r\n",
    "\r\n",
    "\r\n",
    "\r\n"
   ]
  },
  {
   "cell_type": "markdown",
   "id": "2a69dd95-23e6-4f45-9bb5-d2cc39f50b25",
   "metadata": {},
   "source": [
    "5. **Grouped Analysis**: Group the data by one or more columns and calculate summary statistics for each group, and compare the average salaries across different groups."
   ]
  },
  {
   "cell_type": "code",
   "execution_count": 22,
   "id": "2250afc7-0989-4084-823f-c3fe9e699a66",
   "metadata": {},
   "outputs": [
    {
     "data": {
      "text/html": [
       "<div>\n",
       "<style scoped>\n",
       "    .dataframe tbody tr th:only-of-type {\n",
       "        vertical-align: middle;\n",
       "    }\n",
       "\n",
       "    .dataframe tbody tr th {\n",
       "        vertical-align: top;\n",
       "    }\n",
       "\n",
       "    .dataframe thead tr th {\n",
       "        text-align: left;\n",
       "    }\n",
       "\n",
       "    .dataframe thead tr:last-of-type th {\n",
       "        text-align: right;\n",
       "    }\n",
       "</style>\n",
       "<table border=\"1\" class=\"dataframe\">\n",
       "  <thead>\n",
       "    <tr>\n",
       "      <th></th>\n",
       "      <th colspan=\"5\" halign=\"left\">TotalPay</th>\n",
       "    </tr>\n",
       "    <tr>\n",
       "      <th></th>\n",
       "      <th>mean</th>\n",
       "      <th>median</th>\n",
       "      <th>min</th>\n",
       "      <th>max</th>\n",
       "      <th>count</th>\n",
       "    </tr>\n",
       "    <tr>\n",
       "      <th>Year</th>\n",
       "      <th></th>\n",
       "      <th></th>\n",
       "      <th></th>\n",
       "      <th></th>\n",
       "      <th></th>\n",
       "    </tr>\n",
       "  </thead>\n",
       "  <tbody>\n",
       "    <tr>\n",
       "      <th>2011</th>\n",
       "      <td>71744.103871</td>\n",
       "      <td>68213.240</td>\n",
       "      <td>0.00</td>\n",
       "      <td>567595.43</td>\n",
       "      <td>36159</td>\n",
       "    </tr>\n",
       "    <tr>\n",
       "      <th>2012</th>\n",
       "      <td>74113.262265</td>\n",
       "      <td>70714.680</td>\n",
       "      <td>0.00</td>\n",
       "      <td>362844.66</td>\n",
       "      <td>36766</td>\n",
       "    </tr>\n",
       "    <tr>\n",
       "      <th>2013</th>\n",
       "      <td>77611.443142</td>\n",
       "      <td>74500.015</td>\n",
       "      <td>0.00</td>\n",
       "      <td>347102.32</td>\n",
       "      <td>37606</td>\n",
       "    </tr>\n",
       "    <tr>\n",
       "      <th>2014</th>\n",
       "      <td>75471.836912</td>\n",
       "      <td>72366.280</td>\n",
       "      <td>-618.13</td>\n",
       "      <td>471952.64</td>\n",
       "      <td>38119</td>\n",
       "    </tr>\n",
       "  </tbody>\n",
       "</table>\n",
       "</div>"
      ],
      "text/plain": [
       "          TotalPay                                     \n",
       "              mean     median     min        max  count\n",
       "Year                                                   \n",
       "2011  71744.103871  68213.240    0.00  567595.43  36159\n",
       "2012  74113.262265  70714.680    0.00  362844.66  36766\n",
       "2013  77611.443142  74500.015    0.00  347102.32  37606\n",
       "2014  75471.836912  72366.280 -618.13  471952.64  38119"
      ]
     },
     "execution_count": 22,
     "metadata": {},
     "output_type": "execute_result"
    }
   ],
   "source": [
    "df.groupby(by='Year').agg({'TotalPay':['mean','median','min','max','count']})"
   ]
  },
  {
   "cell_type": "code",
   "execution_count": 23,
   "id": "985ad71a-bc0f-48f9-9ddb-ad8d3cff13bf",
   "metadata": {},
   "outputs": [
    {
     "data": {
      "text/html": [
       "<div>\n",
       "<style scoped>\n",
       "    .dataframe tbody tr th:only-of-type {\n",
       "        vertical-align: middle;\n",
       "    }\n",
       "\n",
       "    .dataframe tbody tr th {\n",
       "        vertical-align: top;\n",
       "    }\n",
       "\n",
       "    .dataframe thead tr th {\n",
       "        text-align: left;\n",
       "    }\n",
       "\n",
       "    .dataframe thead tr:last-of-type th {\n",
       "        text-align: right;\n",
       "    }\n",
       "</style>\n",
       "<table border=\"1\" class=\"dataframe\">\n",
       "  <thead>\n",
       "    <tr>\n",
       "      <th></th>\n",
       "      <th colspan=\"5\" halign=\"left\">TotalPay</th>\n",
       "    </tr>\n",
       "    <tr>\n",
       "      <th></th>\n",
       "      <th>mean</th>\n",
       "      <th>median</th>\n",
       "      <th>min</th>\n",
       "      <th>max</th>\n",
       "      <th>count</th>\n",
       "    </tr>\n",
       "    <tr>\n",
       "      <th>Department</th>\n",
       "      <th></th>\n",
       "      <th></th>\n",
       "      <th></th>\n",
       "      <th></th>\n",
       "      <th></th>\n",
       "    </tr>\n",
       "  </thead>\n",
       "  <tbody>\n",
       "    <tr>\n",
       "      <th>CIVIL &amp; CRIMINAL</th>\n",
       "      <td>136806.539283</td>\n",
       "      <td>150254.700</td>\n",
       "      <td>0.00</td>\n",
       "      <td>225366.50</td>\n",
       "      <td>1534</td>\n",
       "    </tr>\n",
       "    <tr>\n",
       "      <th>FIRE DEPARTMENT</th>\n",
       "      <td>236373.814872</td>\n",
       "      <td>242809.475</td>\n",
       "      <td>7093.37</td>\n",
       "      <td>333888.32</td>\n",
       "      <td>78</td>\n",
       "    </tr>\n",
       "    <tr>\n",
       "      <th>MFCC</th>\n",
       "      <td>67517.330222</td>\n",
       "      <td>79729.945</td>\n",
       "      <td>1122.70</td>\n",
       "      <td>97413.08</td>\n",
       "      <td>90</td>\n",
       "    </tr>\n",
       "    <tr>\n",
       "      <th>POLICE DEPARTMENT</th>\n",
       "      <td>158423.671517</td>\n",
       "      <td>152548.170</td>\n",
       "      <td>283.86</td>\n",
       "      <td>538909.28</td>\n",
       "      <td>712</td>\n",
       "    </tr>\n",
       "    <tr>\n",
       "      <th>SEASONAL</th>\n",
       "      <td>9382.643879</td>\n",
       "      <td>8380.800</td>\n",
       "      <td>293.40</td>\n",
       "      <td>20952.00</td>\n",
       "      <td>116</td>\n",
       "    </tr>\n",
       "    <tr>\n",
       "      <th>SFERS</th>\n",
       "      <td>87697.342344</td>\n",
       "      <td>84263.110</td>\n",
       "      <td>576.36</td>\n",
       "      <td>231739.64</td>\n",
       "      <td>64</td>\n",
       "    </tr>\n",
       "    <tr>\n",
       "      <th>Unknown</th>\n",
       "      <td>73675.415698</td>\n",
       "      <td>70715.930</td>\n",
       "      <td>-618.13</td>\n",
       "      <td>567595.43</td>\n",
       "      <td>146056</td>\n",
       "    </tr>\n",
       "  </tbody>\n",
       "</table>\n",
       "</div>"
      ],
      "text/plain": [
       "                        TotalPay                                        \n",
       "                            mean      median      min        max   count\n",
       "Department                                                              \n",
       "CIVIL & CRIMINAL   136806.539283  150254.700     0.00  225366.50    1534\n",
       "FIRE DEPARTMENT    236373.814872  242809.475  7093.37  333888.32      78\n",
       "MFCC                67517.330222   79729.945  1122.70   97413.08      90\n",
       "POLICE DEPARTMENT  158423.671517  152548.170   283.86  538909.28     712\n",
       "SEASONAL             9382.643879    8380.800   293.40   20952.00     116\n",
       "SFERS               87697.342344   84263.110   576.36  231739.64      64\n",
       "Unknown             73675.415698   70715.930  -618.13  567595.43  146056"
      ]
     },
     "execution_count": 23,
     "metadata": {},
     "output_type": "execute_result"
    }
   ],
   "source": [
    "df.groupby(by='Department').agg({'TotalPay':['mean','median','min','max','count']})"
   ]
  },
  {
   "cell_type": "markdown",
   "id": "e7b9607b-7d57-42df-8711-357e2e727ee3",
   "metadata": {},
   "source": [
    "**.** The average salaries were highest in 2013 and lowest in 2011. The minimum salary was  0.0 in the years of 2011, 2012 and 2013 , but in 2014, it was -618.13.    \n",
    "**.** The highest salary in 2011 was an outlier, as it is far away from the median."
   ]
  },
  {
   "cell_type": "markdown",
   "id": "67b84fa0-05cf-403d-9645-e7f55be2bbd2",
   "metadata": {},
   "source": [
    "**.** The Fire Department has the highest average salary of 236373.81, while the Seasonal Department has the lowest average salary of 9382.64."
   ]
  },
  {
   "cell_type": "markdown",
   "id": "c453ed41-51e2-4641-8dee-145ab17cbf63",
   "metadata": {},
   "source": [
    "6. **Simple Correlation Analysis**: Identify any correlation between salary and another numerical column, and plot a scatter plot to visualize the relationship."
   ]
  },
  {
   "cell_type": "code",
   "execution_count": 24,
   "id": "53d3d430-7467-4e4b-9314-85636171714b",
   "metadata": {},
   "outputs": [
    {
     "data": {
      "text/plain": [
       "0.6321869297680303"
      ]
     },
     "execution_count": 24,
     "metadata": {},
     "output_type": "execute_result"
    }
   ],
   "source": [
    "df[\"Benefits\"].corr(df[\"TotalPay\"])"
   ]
  },
  {
   "cell_type": "markdown",
   "id": "0e9d57f6-9058-4227-bbd7-ddc0a024eeb4",
   "metadata": {},
   "source": [
    "**.** There is a strong positive correlation between The Benefits variable and the TotalPay variable. \n",
    "\n",
    "**.** let's visualize the relationship:"
   ]
  },
  {
   "cell_type": "code",
   "execution_count": 25,
   "id": "9b870c5f-7849-4f25-aed5-86a3f969e2c9",
   "metadata": {},
   "outputs": [
    {
     "data": {
      "image/png": "[encoded data removed]",
      "text/plain": [
       "<Figure size 640x480 with 1 Axes>"
      ]
     },
     "metadata": {},
     "output_type": "display_data"
    }
   ],
   "source": [
    "plt.scatter(df['TotalPay'],df['Benefits'],color = 'g')\n",
    "plt.xlabel(\"TotalPay\", color = 'black', size = 18)\n",
    "plt.ylabel(\"Benefits\", color = 'black', size = 18)\n",
    "plt.show()"
   ]
  },
  {
   "cell_type": "markdown",
   "id": "faa0cf04-12fe-46ff-947e-b744f734addf",
   "metadata": {},
   "source": [
    "7. **Summary of Insights**: Write a brief report summarizing the findings and insights from the analyses."
   ]
  },
  {
   "cell_type": "markdown",
   "id": "6ffac412-a612-4db5-a5bf-1a4b992aeaf4",
   "metadata": {},
   "source": [
    "**Here are some insights**:"
   ]
  },
  {
   "cell_type": "markdown",
   "id": "a7197633-2739-44cb-9f06-66828bad659c",
   "metadata": {},
   "source": [
    "The dataset represents the employees in San Francisco from 2011 to 2014."
   ]
  },
  {
   "cell_type": "markdown",
   "id": "adba010b-4939-4907-bcd0-acaf89687e17",
   "metadata": {},
   "source": [
    "There is a **strong correlation** between BasePay and Benefits, and a **weak correlation** between TotalPay and Year."
   ]
  },
  {
   "cell_type": "markdown",
   "id": "e87de5b8-c427-4a24-ad87-79eb8ca51a09",
   "metadata": {},
   "source": [
    "The distribution of salary has **positive** skewe, Because both mode and median are lower than mean,\n",
    "\n",
    "in this order: mode<median<mean."
   ]
  },
  {
   "cell_type": "markdown",
   "id": "f239b67f-e00e-47f2-a3e9-5e8afc10a114",
   "metadata": {},
   "source": [
    " The status column in the data is blank, which means that the data does not provide any information about the employment status of the employees, such as full-time, part-time, contract, etc."
   ]
  },
  {
   "cell_type": "markdown",
   "id": "d1c267b9-4f49-4564-98f4-97bac5b4bc73",
   "metadata": {},
   "source": [
    "A **negative value of OtherPay** seems unrealistic and suggests a data error. Alternatively, it could indicate that some employees were penalized for causing losses."
   ]
  }
 ],
 "metadata": {
  "kernelspec": {
   "display_name": "Python 3 (ipykernel)",
   "language": "python",
   "name": "python3"
  },
  "language_info": {
   "codemirror_mode": {
    "name": "ipython",
    "version": 3
   },
   "file_extension": ".py",
   "mimetype": "text/x-python",
   "name": "python",
   "nbconvert_exporter": "python",
   "pygments_lexer": "ipython3",
   "version": "3.11.4"
  }
 },
 "nbformat": 4,
 "nbformat_minor": 5
}
